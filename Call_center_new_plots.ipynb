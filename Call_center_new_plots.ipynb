{
 "cells": [
  {
   "cell_type": "code",
   "execution_count": null,
   "outputs": [],
   "source": [
    "import pandas as pd\n",
    "import numpy as np\n",
    "import datetime\n",
    "from datetime import datetime, date, time, timedelta\n",
    "from sklearn.linear_model import LinearRegression\n",
    "import matplotlib.pyplot as plt\n",
    "\n",
    "# def to_time(str_time):\n",
    "#     if len(str_time) >= 7:\n",
    "#         date_time_str = str_time\n",
    "#         date_time_obj = datetime.datetime.strptime(date_time_str, '%H:%M:%S')\n",
    "#         return date_time_obj.time()\n",
    "#     else:\n",
    "#         print(str_time)\n",
    "#         date_time_str = '0:00:00'\n",
    "#         date_time_obj = datetime.datetime.strptime(date_time_str, '%H:%M:%S')\n",
    "#         return date_time_obj.time()\n",
    "#\n",
    "#\n",
    "# def hour_minutes(duration):\n",
    "#     duration = to_time(duration)\n",
    "#     days, seconds = duration.days, duration.seconds\n",
    "#     hours = days * 24 + seconds // 3600\n",
    "#     minutes = (seconds % 3600) // 60\n",
    "#     return hours, minutes\n"
   ],
   "metadata": {
    "collapsed": false,
    "pycharm": {
     "name": "#%%\n"
    }
   }
  },
  {
   "cell_type": "code",
   "execution_count": null,
   "outputs": [],
   "source": [
    "df = pd.read_csv('call_center_year.csv')\n",
    "\n",
    "print(df.head(10))"
   ],
   "metadata": {
    "collapsed": false,
    "pycharm": {
     "name": "#%%\n"
    }
   }
  },
  {
   "cell_type": "markdown",
   "source": [
    "Функция преобразования строковых даты и времени в  datetime"
   ],
   "metadata": {
    "collapsed": false
   }
  },
  {
   "cell_type": "code",
   "execution_count": null,
   "outputs": [],
   "source": [
    "def to_datetime(str_time, str_date):\n",
    "    if len(str_time) >= 7:\n",
    "        date_time_str = str_time\n",
    "    else:\n",
    "        print(str_time)\n",
    "        date_time_str = '0:00:00'\n",
    "    date_time_obj = datetime.strptime(date_time_str, '%H:%M:%S')\n",
    "    t = date_time_obj.time()    \n",
    "    date = int(str_date)\n",
    "    day = date % 100\n",
    "    date //= 100\n",
    "    month = date % 100\n",
    "    year = 1900 + date // 100\n",
    "    d = datetime(year, month, day)\n",
    "    return datetime.combine(d, t)"
   ],
   "metadata": {
    "collapsed": false,
    "pycharm": {
     "name": "#%%\n"
    }
   }
  },
  {
   "cell_type": "markdown",
   "source": [
    " Преобразовываем все столбцы с временами в datetime "
   ],
   "metadata": {
    "collapsed": false
   }
  },
  {
   "cell_type": "code",
   "execution_count": null,
   "outputs": [],
   "source": [
    "df_copy = df.copy()\n",
    "\n",
    "ser_datetime_q_start = []\n",
    "ser_datetime_q_exit = []\n",
    "ser_datetime_vru_entry = []\n",
    "ser_datetime_vru_exit = []\n",
    "ser_datetime_ser_start = []\n",
    "ser_datetime_ser_exit = []\n",
    "\n",
    "for index, row in df_copy.iterrows():\n",
    "    ser_datetime_q_start.append(to_datetime(row['q_start'], row['date']))\n",
    "    ser_datetime_q_exit.append(to_datetime(row['q_exit'], row['date']))\n",
    "    ser_datetime_vru_entry.append(to_datetime(row['vru_entry'], row['date']))\n",
    "    ser_datetime_vru_exit.append(to_datetime(row['vru_exit'], row['date']))\n",
    "    ser_datetime_ser_start.append(to_datetime(row['ser_start'], row['date']))\n",
    "    ser_datetime_ser_exit.append(to_datetime(row['ser_exit'], row['date']))\n",
    "\n",
    "    \n",
    "df_copy['q_start_dt'] = ser_datetime_q_start\n",
    "df_copy['q_exit_dt'] = ser_datetime_q_exit\n",
    "df_copy['vru_entry_dt'] = ser_datetime_vru_entry\n",
    "df_copy['vru_exit_dt'] = ser_datetime_vru_exit\n",
    "df_copy['ser_start_dt'] = ser_datetime_ser_start\n",
    "df_copy['q_ser_exitt'] = ser_datetime_ser_exit\n",
    "\n",
    "df_copy.head(15)\n",
    "\n",
    "df_copy.to_csv('call_center_year_dt.csv')\n",
    "\n",
    "\n",
    "#если время в очереди 0, то смотрим вру тайм"
   ],
   "metadata": {
    "collapsed": false,
    "pycharm": {
     "name": "#%%\n"
    }
   }
  },
  {
   "cell_type": "code",
   "execution_count": null,
   "outputs": [],
   "source": [
    "def to_date(str_date):\n",
    "    date = int(str_date)\n",
    "    day = date % 100\n",
    "    date //= 100\n",
    "    month = date % 100\n",
    "    year = 1900 + date // 100\n",
    "    return [year, month, day]"
   ],
   "metadata": {
    "collapsed": false,
    "pycharm": {
     "name": "#%%\n"
    }
   }
  },
  {
   "cell_type": "code",
   "execution_count": null,
   "outputs": [],
   "source": [
    "df_copy_2 = df_copy"
   ],
   "metadata": {
    "collapsed": false,
    "pycharm": {
     "name": "#%%\n"
    }
   }
  },
  {
   "cell_type": "code",
   "execution_count": null,
   "outputs": [],
   "source": [
    "def diff_time_interval(n):\n",
    "    \"\"\"\n",
    "    input:\n",
    "    n - interval in minutes\n",
    "    \"\"\"\n",
    "\n",
    "    all_datas = df_copy['date'].unique()\n",
    "    means_x = []\n",
    "    means_y = []\n",
    "    means_s = []\n",
    "    means_op_x = []\n",
    "    means_op_y = []\n",
    "    means_op_s = []\n",
    "    medians_x = []\n",
    "    medians_y = []\n",
    "    medians_s = []\n",
    "    medians_op_x = []\n",
    "    medians_op_y = []\n",
    "    medians_op_s = []\n",
    "    stds_x = []\n",
    "    stds_y = []\n",
    "    stds_s = []\n",
    "    stds_op_x = []\n",
    "    stds_op_y = []\n",
    "    stds_op_s = []\n",
    "    hu_means_x = [] #hang up\n",
    "    hu_means_y = []\n",
    "    hu_means_s = []\n",
    "    hu_num_x = []\n",
    "    hu_num_y = []\n",
    "    hu_num_s = []\n",
    "    occup_x = []\n",
    "    occup_y = []\n",
    "    occup_ser = []\n",
    "    means_ser = []\n",
    "    formula_x = [] # occupancy/(1-occupancy)\n",
    "    formula_y = [] # N*E(W)/E(S)\n",
    "    \n",
    "    df_copy_3 = df_copy_2\n",
    "\n",
    "    if n == 15:\n",
    "        treshold_op = 8\n",
    "        treshold_c = 60\n",
    "    if n == 30:\n",
    "        treshold_op = 12\n",
    "        treshold_c = 100\n",
    "    if n == 60:\n",
    "        treshold_op = 20\n",
    "        treshold_c = 200\n",
    "    hours_count = 0    \n",
    "        \n",
    "    for day in all_datas:\n",
    "        df_day = df_copy_3.loc[df_copy_3['date'] == day]\n",
    "        date_type = to_date(day)\n",
    "        base = datetime(date_type[0], date_type[1], date_type[2])\n",
    "        arr_times = [base + timedelta(minutes=i) for i in range(420, 1500, n)] #time from 7:00 (420 minutes) to 24:00(1440 min)\n",
    "        for i in range(len(arr_times)-1):\n",
    "            df_n_min = df_day.loc[(df_day['vru_entry_dt'] > arr_times[i]) & (df_day['vru_entry_dt'] < arr_times[i+1])]\n",
    "            df_n_min_no_server = df_n_min.loc[df_n_min['server'] == 'NO_SERVER']\n",
    "            df_n_min_server = df_n_min.loc[df_n_min['server'] != 'NO_SERVER']\n",
    "            lamb_eff = 1/df_n_min_server['vru_entry_dt'].sort_values().diff().mean().total_seconds()\n",
    "            lamb = 1/df_n_min['vru_entry_dt'].sort_values().diff().mean().total_seconds()\n",
    "            n_clients = df_n_min.shape[0]\n",
    "            n_clients_ser = df_n_min.shape[0] - df_n_min_no_server.shape[0]\n",
    "            n_operators = df_n_min_server['server'].nunique()\n",
    "            n_off_clients = df_n_min_no_server.shape[0]\n",
    "            if n_operators == 0:\n",
    "                n_operators = 1\n",
    "                \n",
    "            #plots from paper\n",
    "            waiting_mean = df_n_min['q_time'].mean()\n",
    "            ser_time_mean = df_n_min_server['ser_time'].mean()\n",
    "            if n_operators > 0:\n",
    "                occup = ser_time_mean*lamb_eff/n_operators\n",
    "                if occup <= 1:\n",
    "                    occup_y.append(waiting_mean)\n",
    "                    occup_x.append(occup)\n",
    "                    occup_ser.append(ser_time_mean)\n",
    "#                     if occup > 0 and occup < 1 and ser_time_mean > 0:\n",
    "#                         x_ap = occup/(1-occup)\n",
    "#                         y_ap = n_operators*waiting_mean/ser_time_mean\n",
    "#                         formula_x.append(np.log(x_ap))\n",
    "#                         formula_y.append(np.log(y_ap))\n",
    "            \n",
    "            \n",
    "            if waiting_mean != 0:\n",
    "                if n_clients <= treshold_c:\n",
    "                    means_y.append(waiting_mean)\n",
    "                    means_x.append(n_clients)\n",
    "                if n_clients/n_operators <= treshold_op:\n",
    "                    means_op_y.append(waiting_mean)\n",
    "                    means_op_x.append(n_clients/n_operators)\n",
    "                    if df_n_min_no_server['q_time'].mean() < 500 and df_n_min_no_server['q_time'].mean() != 0:\n",
    "                        hu_means_y.append(df_n_min_no_server['q_time'].mean())\n",
    "                        hu_means_x.append(n_clients/n_operators)\n",
    "                    if df_n_min.shape[0] != 0:\n",
    "                        hu_num_y.append(df_n_min_no_server.shape[0]) #/df_n_min.shape[0]\n",
    "                        hu_num_x.append(n_clients/n_operators)\n",
    "            if df_n_min['q_time'].median() != 0:\n",
    "                if n_clients <= treshold_c:\n",
    "                    medians_y.append(df_n_min['q_time'].median())\n",
    "                    medians_x.append(n_clients)\n",
    "                if (n_clients/n_operators <= treshold_op):\n",
    "                    medians_op_y.append(df_n_min['q_time'].median())\n",
    "                    medians_op_x.append(n_clients/n_operators)\n",
    "            if df_n_min['q_time'].std() != 0:\n",
    "                if n_clients <= treshold_c:\n",
    "                    stds_y.append(df_n_min['q_time'].std())\n",
    "                    stds_x.append(n_clients)\n",
    "                if (n_clients/n_operators <= treshold_op):\n",
    "                    stds_op_y.append(df_n_min['q_time'].std())\n",
    "                    stds_op_x.append(n_clients/n_operators)\n",
    "\n",
    "    dict_return = {'min': n,\n",
    "                   'mean_dep_people_x': means_x,\n",
    "                   'mean_dep_people_y': means_y,\n",
    "                   'mean_dep_operator_x': means_op_x,\n",
    "                   'mean_dep_operator_y': means_op_y,\n",
    "                   'median_dep_people_x': medians_x, \n",
    "                   'median_dep_people_y': medians_y,\n",
    "                   'median_dep_operator_x': medians_op_x,\n",
    "                   'median_dep_operator_y': medians_op_y,\n",
    "                   'std_dep_people_x': stds_x, \n",
    "                   'std_dep_people_y': stds_y,\n",
    "                   'std_dep_operator_x': stds_op_x, \n",
    "                   'std_dep_operator_y': stds_op_y, \n",
    "                   'hu_mean_x': hu_means_x, \n",
    "                   'hu_mean_y': hu_means_y, \n",
    "                   'hu_num_x': hu_num_x, \n",
    "                   'hu_num_y': hu_num_y,\n",
    "                   'occup_x': occup_x,\n",
    "                   'occup_y': occup_y,\n",
    "                   'occup_ser': occup_ser}\n",
    "#                     'formula_x': formula_x,\n",
    "#                    'formula_y': formula_y\n",
    "\n",
    "    return dict_return"
   ],
   "metadata": {
    "collapsed": false,
    "pycharm": {
     "name": "#%%\n"
    }
   }
  },
  {
   "cell_type": "markdown",
   "source": [
    "Функция линейной регрессии для 25%, 50%, 75%"
   ],
   "metadata": {
    "collapsed": false
   }
  },
  {
   "cell_type": "code",
   "execution_count": null,
   "outputs": [],
   "source": [
    "def lines_regression(X, y):\n",
    "    tuples = list(zip(X, y))\n",
    "    tuples = sorted(tuples, key= lambda x : x[0])\n",
    "    tuples = [tup for tup in tuples if not np.isnan(tup[1])]\n",
    "    \n",
    "    #average y\n",
    "    dict_avg = {}\n",
    "    X_unique = list(set([tup[0] for tup in tuples]))\n",
    "    \n",
    "    for x in X_unique:\n",
    "        ys = [tup[1] for tup in tuples if tup[0]==x]\n",
    "        ys_avg = sum(ys) / len(ys)\n",
    "        dict_avg.update({x : ys_avg})\n",
    "    \n",
    "    #linear regression 25% 50% 75%\n",
    "    X, y = list(map(list, zip(*tuples)))\n",
    "    percents = [X[0], X[0]+(X[-1]-X[0])*0.25, X[0]+(X[-1]-X[0])*0.5, X[0]+(X[-1]-X[0])*0.75, X[-1]]\n",
    "    slopes = []\n",
    "    for i in range(len(percents)-1):\n",
    "        tuples_now = [tup for tup in tuples if percents[i] < tup[0] and tup[0]<percents[i+1]]\n",
    "        X_now, y_now = list(map(list, zip(*tuples_now)))\n",
    "        X_now = np.array(X_now)\n",
    "        X_now = X_now.reshape(-1,1)\n",
    "        model = LinearRegression()\n",
    "        model.fit(X_now, y_now)\n",
    "        slopes.append(model.coef_) # (slope, shift)\n",
    "    slopes.append(1)\n",
    "    return slopes, percents, dict_avg"
   ],
   "metadata": {
    "collapsed": false,
    "pycharm": {
     "name": "#%%\n"
    }
   }
  },
  {
   "cell_type": "markdown",
   "source": [
    "Линии 25% 50% 75% "
   ],
   "metadata": {
    "collapsed": false
   }
  },
  {
   "cell_type": "code",
   "execution_count": null,
   "outputs": [],
   "source": [
    "def lines(x, y, part):\n",
    "    \n",
    "#     if t == 30:\n",
    "        \n",
    "    \n",
    "    tuples = list(zip(x, y))\n",
    "    tuples = sorted(tuples, key= lambda x : x[0])\n",
    "    tuples = [tup for tup in tuples if not np.isnan(tup[1])]\n",
    "    \n",
    "    #average y\n",
    "    dict_25 = {}\n",
    "    dict_50 = {}\n",
    "    dict_75 = {}\n",
    "    x_unique = sorted(list(set([tup[0] for tup in tuples])))\n",
    "    step = (x_unique[-1]-x_unique[0])/part\n",
    "    \n",
    "    len_y = []\n",
    "#     for i in np.arange(x_unique[0], x_unique[-1]):\n",
    "    for i in x_unique:\n",
    "        y_s = sorted([tup[1] for tup in tuples if i<=tup[0] and tup[0]<=i+step])\n",
    "        len_y.append(len(y_s))\n",
    "        all_y_s = len(y_s)-1\n",
    "        if all_y_s >= 0:\n",
    "\n",
    "            y_s_50 = y_s[round(all_y_s*0.5)]\n",
    "            y_s_25 = y_s[round(all_y_s*0.25)]\n",
    "            y_s_75 = y_s[round(all_y_s*0.75)]\n",
    "\n",
    "\n",
    "            dict_25.update({i:y_s_25})\n",
    "            dict_50.update({i:y_s_50})\n",
    "            dict_75.update({i:y_s_75})\n",
    "    \n",
    "    print('average number of dots in intervals:', sum(len_y) / len(len_y) )\n",
    "\n",
    "    return dict_25, dict_50, dict_75"
   ],
   "metadata": {
    "collapsed": false,
    "pycharm": {
     "name": "#%%\n"
    }
   }
  },
  {
   "cell_type": "markdown",
   "source": [
    "Функция графика"
   ],
   "metadata": {
    "collapsed": false
   }
  },
  {
   "cell_type": "code",
   "execution_count": null,
   "outputs": [],
   "source": [
    "def make_plot(x, y, title, t, xlab, ylab, make_lines=True):\n",
    "#     slopes, percents, dict_avg = lines_regression(x, y)\n",
    "    \n",
    "    if t==15:\n",
    "        col = [0, 0.5, 0, 0.05]\n",
    "        p = 80\n",
    "    if t == 30:\n",
    "        col = [1, 0, 0, 0.05]\n",
    "        p = 40\n",
    "    if t == 60:\n",
    "        col = [0, 0, 1, 0.05]\n",
    "        p = 9\n",
    "    fig, ax = plt.subplots()\n",
    "\n",
    "    ax.scatter(x, y,\n",
    "               color = col)    #  цвет точек\n",
    "    ax.set_title(title)\n",
    "\n",
    "#     ax.scatter(dict_avg.keys(), dict_avg.values(),\n",
    "#                color = [128/225, 0, 64/225, 0.4])\n",
    "    fig.set_figwidth(10)     #  ширина и\n",
    "    fig.set_figheight(10)    #  высота \"Figure\"\n",
    "    \n",
    "    if make_lines:\n",
    "        dict_25, dict_50, dict_75 = lines(x, y, p)\n",
    "\n",
    "        ax.plot(dict_75.keys(), dict_75.values(), color = [23/255, 175/255, 209/255, 1], label=\"75th percentile\")\n",
    "        ax.plot(dict_50.keys(), dict_50.values(), color = [209/255, 128/255, 23/255, 1], label=\"50th percentile\")\n",
    "        ax.plot(dict_25.keys(), dict_25.values(), color = [143/255, 62/255, 214/255, 1], label=\"25th percentile\")\n",
    "\n",
    "        ax.legend()\n",
    "        plt.ylim([-10,max(dict_75.values())*1.1])\n",
    "    plt.xlabel(xlab)\n",
    "    plt.ylabel(ylab)\n",
    "#    plt.xlim(right = max(dict_75.keys())*0.8)\n",
    "    plt.show()\n",
    "    \n",
    "    #linear regression\n",
    "#     start_line = percents[0]\n",
    "#     for i in range(len(slopes)-1):\n",
    "#         slope = slopes[i]\n",
    "#         xvals = np.linspace(percents[i],percents[i+1],100) #100 points from 0 to 6 in ndarray\n",
    "#         shift = slope*percents[i] - start_line\n",
    "#         start_line = slope*percents[i+1]-shift\n",
    "#         plt.plot(percents[i+1], slope*percents[i+1]-shift, 'o')\n",
    "#         plt.plot(xvals, slope*xvals-shift, 'purple')"
   ],
   "metadata": {
    "collapsed": false,
    "pycharm": {
     "name": "#%%\n"
    }
   }
  },
  {
   "cell_type": "code",
   "execution_count": null,
   "outputs": [],
   "source": [
    "# dict_15 = diff_time_interval(15)\n",
    "# dict_30 = diff_time_interval(30)\n",
    "dict_60 = diff_time_interval(60)"
   ],
   "metadata": {
    "collapsed": false,
    "pycharm": {
     "name": "#%%\n"
    }
   }
  },
  {
   "cell_type": "code",
   "execution_count": null,
   "outputs": [],
   "source": [
    "for dict_n in [dict_60]: #dict_15, dict_30, \n",
    "    n = dict_n['min']\n",
    "    make_plot(dict_n['mean_dep_people_x'], dict_n['mean_dep_people_y'], 'mean waiting time depends on number of people '\n",
    "              'in queue within %s minutes' % n, n, 'number of people in queue', 'mean waiting time in queue in seconds')\n",
    "    make_plot(dict_n['mean_dep_operator_x'], dict_n['mean_dep_operator_y'], 'mean waiting time depends on people in queue per operator'\n",
    "              ' within %s minutes' % n, n, 'number of people in queue per operator', 'mean waiting time in queue in seconds')\n",
    "    make_plot(dict_n['median_dep_people_x'], dict_n['median_dep_people_y'], 'median waiting time depends on people '\n",
    "              'in queue within %s minutes' % n, n, 'number of people in queue', 'median waiting time in queue in seconds')\n",
    "    make_plot(dict_n['median_dep_operator_x'], dict_n['median_dep_operator_y'], 'median waiting time depends on people in queue per operator'\n",
    "              'within %s minutes' % n, n, 'number of people in queue per operator', 'median waiting time in queue in seconds')\n",
    "    make_plot(dict_n['std_dep_people_x'], dict_n['std_dep_people_y'], 'standard deviation of waiting time depends on number of people'\n",
    "              ' in queue within %s minutes' % n, n, 'number of people in queue', 'standard deviation of waiting time in queue in seconds')\n",
    "    make_plot(dict_n['std_dep_operator_x'], dict_n['std_dep_operator_y'], 'standard deviation of waiting time depends on number of people per operator'\n",
    "              ' in queue within %s minutes' % n, n, 'number of people in queue per operator', 'standard deviation o waiting time in queue in seconds')\n",
    "    make_plot(dict_n['hu_mean_x'], dict_n['hu_mean_y'], 'mean waiting time for people before hang up depends on '\n",
    "              'number of people per operator within %s min' % n, n, 'number of people in queue', 'mean waiting time in queue '\n",
    "              'before hang up in seconds')\n",
    "    make_plot(dict_n['hu_num_x'], dict_n['hu_num_y'], 'number of people hang up depends on '\n",
    "              'number of people per operator within %s min' % n, n,'number of people in queue per operator',\n",
    "              ' number of people hang up')\n",
    "    make_plot(dict_n['occup_x'], dict_n['occup_y'], 'average waiting time depends on occupancy (from paper)'\n",
    "          ' %s min' % n, n,'occupancy', 'average waiting time', False)\n",
    "#     make_plot(dict_n['formula_x'], dict_n['formula_y'], 'check if data suits Khintchine-Pollaczek formula with intervals of '\n",
    "#           ' %s min' % n, n,'ln(occupancy/(1-occupancy))','ln(N*E(W)/E(S))', False)"
   ],
   "metadata": {
    "collapsed": false,
    "pycharm": {
     "name": "#%%\n"
    }
   }
  },
  {
   "cell_type": "code",
   "execution_count": null,
   "outputs": [],
   "source": [
    "def make_subplot(ax, x, y, title, t, xlab, ylab, make_lines=True, transpar = 0.05, szs=[]):\n",
    "#     slopes, percents, dict_avg = lines_regression(x, y)\n",
    "    \n",
    "    if t==15:\n",
    "        col = [0, 0.5, 0, 0.05]\n",
    "        p = 120\n",
    "    if t == 30:\n",
    "        col = [1, 0, 0, 0.05]\n",
    "        p = 60\n",
    "    if t == 60:\n",
    "        col = [0, 0, 1, transpar]\n",
    "        p = 9\n",
    "    #fig, ax = plt.subplots()\n",
    "    \n",
    "    if szs != []:\n",
    "        ax.scatter(x, y,\n",
    "                   color = col, s = szs)    #  цвет точек\n",
    "        ax.set_title(title)\n",
    "    else:\n",
    "        ax.scatter(x, y,\n",
    "                   color = col)    #  цвет точек\n",
    "        ax.set_title(title)\n",
    "#     ax.scatter(dict_avg.keys(), dict_avg.values(),\n",
    "#                color = [128/225, 0, 64/225, 0.4])\n",
    "#     fig.set_figwidth(16)     #  ширина и\n",
    "#     fig.set_figheight(16)    #  высота \"Figure\"\n",
    "    ax.set(xlabel=xlab, ylabel=ylab)\n",
    "    if make_lines:\n",
    "        dict_25, dict_50, dict_75 = lines(x, y, p)\n",
    "\n",
    "        ax.plot(dict_75.keys(), dict_75.values(), color = [23/255, 175/255, 209/255, 1], label=\"75th percentile\")\n",
    "        ax.plot(dict_50.keys(), dict_50.values(), color = [209/255, 128/255, 23/255, 1], label=\"50th percentile\")\n",
    "        ax.plot(dict_25.keys(), dict_25.values(), color = [143/255, 62/255, 214/255, 1], label=\"25th percentile\")\n",
    "\n",
    "        ax.set_ylim([-10,max(dict_75.values())*1.1])\n",
    "\n",
    "        ax.legend()\n",
    "\n",
    "        \n",
    "#     plt.ylim([-10,max(dict_75.values())*1.1])\n",
    "#     plt.xlabel(xlab)\n",
    "#     plt.ylabel(ylab)\n",
    "# #    plt.xlim(right = max(dict_75.keys())*0.8)\n",
    "#     plt.show()"
   ],
   "metadata": {
    "collapsed": false,
    "pycharm": {
     "name": "#%%\n"
    }
   }
  },
  {
   "cell_type": "code",
   "execution_count": null,
   "outputs": [],
   "source": [
    "fig, axs = plt.subplots(2, 3)\n",
    "fig.set_figwidth(24)     #  ширина и\n",
    "fig.set_figheight(14)    #  высота \"Figure\"\n",
    "n = 60\n",
    "make_subplot(axs[0,0], dict_n['mean_dep_people_x'], dict_n['mean_dep_people_y'], 'mean waiting time \\n depends on people '\n",
    "             'in queue within %s minutes' % n, n, 'number of people in queue', 'mean waiting time in queue in seconds')\n",
    "make_subplot(axs[1,0], dict_n['mean_dep_operator_x'], dict_n['mean_dep_operator_y'], 'mean waiting time \\n depends on people in queue per operator'\n",
    "          ' within %s minutes' % n, n, 'number of people in queue per operator', 'mean waiting time in queue in seconds')\n",
    "make_subplot(axs[0,1], dict_n['median_dep_people_x'], dict_n['median_dep_people_y'], 'median waiting time \\n depends on people '\n",
    "          'in queue within %s minutes' % n, n, 'number of people in queue', 'median waiting time in queue in seconds')\n",
    "make_subplot(axs[1,1], dict_n['median_dep_operator_x'], dict_n['median_dep_operator_y'], 'median waiting time \\n depends on people in queue per operator'\n",
    "          ' within %s minutes' % n, n, 'number of people in queue per operator', 'median waiting time in queue in seconds')\n",
    "make_subplot(axs[0,2], dict_n['std_dep_people_x'], dict_n['std_dep_people_y'], 'standard deviation of waiting time \\n depends on number of people'\n",
    "          ' in queue within %s minutes' % n, n, 'number of people in queue', 'standard deviation of waiting time in queue in seconds')\n",
    "make_subplot(axs[1,2], dict_n['std_dep_operator_x'], dict_n['std_dep_operator_y'], 'standard deviation of waiting time \\n depends on number of people per operator'\n",
    "          ' in queue within %s minutes' % n, n, 'number of people in queue per operator', 'standard deviation o waiting time in queue in seconds')\n",
    "\n",
    "\n",
    "\n",
    "\n",
    "# axs[0, 0].plot(dict_n['mean_dep_people_x'], dict_n['mean_dep_people_y'])\n",
    "# axs[0, 1].plot(x, y, 'tab:orange')\n",
    "# axs[0, 1].set_title('Axis [0,1]')\n",
    "# axs[1, 0].plot(x, -y, 'tab:green')\n",
    "# axs[1, 0].set_title('Axis [1,0]')\n",
    "# axs[1, 1].plot(x, -y, 'tab:red')\n",
    "# axs[1, 1].set_title('Axis [1,1]')\n",
    "\n",
    "# for ax in axs.flat:\n",
    "#     ax.set(xlabel='x-label', ylabel='y-label')\n",
    "\n",
    "# Hide x labels and tick labels for top plots and y ticks for right plots.\n",
    "# for ax in axs.flat:\n",
    "#     ax.label_outer()"
   ],
   "metadata": {
    "collapsed": false,
    "pycharm": {
     "name": "#%%\n"
    }
   }
  },
  {
   "cell_type": "code",
   "execution_count": null,
   "outputs": [],
   "source": [
    "fig, axs = plt.subplots(1, 2)\n",
    "fig.set_figwidth(16)     #  ширина и\n",
    "fig.set_figheight(6)    #  высота \"Figure\"\n",
    "n = 60\n",
    "make_subplot(axs[0], dict_n['hu_mean_x'], dict_n['hu_mean_y'], 'mean waiting time for people before hang up \\n depends on '\n",
    "             'number of people per operator within %s min' % n, n, 'number of people in queue', 'mean waiting time in queue '\n",
    "             'before hang up in seconds')\n",
    "make_subplot(axs[1], dict_n['hu_num_x'], dict_n['hu_num_y'], 'number of people hang up \\n depends on '\n",
    "             'number of people per operator within %s min' % n, n,'number of people in queue per operator',\n",
    "             ' number of people hang up')"
   ],
   "metadata": {
    "collapsed": false,
    "pycharm": {
     "name": "#%%\n"
    }
   }
  },
  {
   "cell_type": "code",
   "execution_count": null,
   "outputs": [],
   "source": [
    "def average_scatter(x, y, serv, step=1/50, start=0, end=1):\n",
    "    tuples = list(zip(x, y))\n",
    "    tuples = sorted(tuples, key= lambda x : x[0])\n",
    "    tuples = [tup for tup in tuples if not np.isnan(tup[1])]\n",
    "    tuples_ser = list(zip(x, serv))\n",
    "    tuples_ser = sorted(tuples, key= lambda x : x[0])\n",
    "    tuples_ser = [tup for tup in tuples if not np.isnan(tup[1])]\n",
    "    \n",
    "    dict_50 = {}\n",
    "    sizes = {}\n",
    "    dict_ser = {}\n",
    "    \n",
    "    for i in np.arange(start, end, step):\n",
    "        if i == end:\n",
    "            break\n",
    "        y_s = sorted([tup[1] for tup in tuples if i<=tup[0] and tup[0]<=i+step])\n",
    "        y_s_ser = sorted([tup[1] for tup in tuples_ser if i<=tup[0] and tup[0]<=i+step])\n",
    "        all_y_s = len(y_s)-1\n",
    "        all_ser = len(y_s_ser)-1\n",
    "        if all_y_s >= 0:\n",
    "            y_s_50 = y_s[round(all_y_s*0.5)]\n",
    "            y_s_ser = y_s[round(all_ser*0.5)]\n",
    "            dict_50.update({i:y_s_50})\n",
    "            sizes.update({i:all_y_s})\n",
    "            dict_ser.update({i:all_ser})\n",
    "        \n",
    "    return dict_50, sizes, dict_ser"
   ],
   "metadata": {
    "collapsed": false,
    "pycharm": {
     "name": "#%%\n"
    }
   }
  },
  {
   "cell_type": "code",
   "execution_count": null,
   "outputs": [],
   "source": [
    "fig, axs = plt.subplots(1, 2)\n",
    "fig.set_figwidth(20)     #  ширина и\n",
    "fig.set_figheight(10)    #  высота \"Figure\"\n",
    "n = 60\n",
    "\n",
    "dict_50, sizes, dict_ser = average_scatter(dict_n['occup_x'], dict_n['occup_y'], dict_n['occup_ser'])\n",
    "\n",
    "max_size = max(sizes.values())\n",
    "dot_szs = []\n",
    "for s in sizes.values():\n",
    "    dot_szs.append(150*s/max_size)\n",
    "    \n",
    "\n",
    "\n",
    "make_subplot(axs[0], dict_50.keys(), dict_50.values(), 'average waiting time depends on occupancy (from paper) '\n",
    "             'within %s min' % n, n, 'utilization', 'average waiting time', False, 0.6, szs = dot_szs)\n",
    "\n",
    "formula_x = []\n",
    "formula_y = []\n",
    "for x_oc, y_oc, size, ser in zip(dict_50.keys(), dict_50.values(), sizes.values(), dict_ser.values()):\n",
    "#     formula_x.append(np.log(x_oc/(1-x_oc)))\n",
    "#     formula_y.append(np.log(y_oc))\n",
    "    formula_x.append(x_oc/(1-x_oc))\n",
    "    formula_y.append(y_oc*size/ser)\n",
    "\n",
    "\n",
    "make_subplot(axs[1], formula_x, formula_y, 'chek if there are linear dependepce '\n",
    "             ' within %s min' % n, n,\"agents' utilization\",\n",
    "             ' N · E(W)/E(S)', False, 0.7, szs = dot_szs)\n",
    "axs[1].set_xlim([-1,20])"
   ],
   "metadata": {
    "collapsed": false,
    "pycharm": {
     "name": "#%%\n"
    }
   }
  },
  {
   "cell_type": "code",
   "execution_count": null,
   "outputs": [],
   "source": [],
   "metadata": {
    "collapsed": false,
    "pycharm": {
     "name": "#%%\n"
    }
   }
  }
 ],
 "metadata": {
  "kernelspec": {
   "display_name": "Python 3",
   "language": "python",
   "name": "python3"
  },
  "language_info": {
   "codemirror_mode": {
    "name": "ipython",
    "version": 3
   },
   "file_extension": ".py",
   "mimetype": "text/x-python",
   "name": "python",
   "nbconvert_exporter": "python",
   "pygments_lexer": "ipython3",
   "version": "3.8.5"
  }
 },
 "nbformat": 4,
 "nbformat_minor": 4
}